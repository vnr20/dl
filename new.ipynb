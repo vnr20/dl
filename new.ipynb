{
  "nbformat": 4,
  "nbformat_minor": 0,
  "metadata": {
    "colab": {
      "provenance": []
    },
    "kernelspec": {
      "name": "python3",
      "display_name": "Python 3"
    },
    "language_info": {
      "name": "python"
    }
  },
  "cells": [
    {
      "cell_type": "markdown",
      "source": [
        "[**LAB 1**](https://colab.research.google.com/drive/1rkKYaiigKoLvp4C9xtGurmMYgGZs3eqO?usp=sharing)\n",
        "\n",
        "[**LAB 2**](https://colab.research.google.com/drive/178lbazyfLpgntm9vfEAltplOyBEi1iAY?usp=sharing)\n",
        "\n",
        "[**LAB3**](https://colab.research.google.com/drive/1TD7xsMn47K37Ufg8QSVMeFVYy1F1pAP5?usp=drive_link)\n",
        "\n",
        "[**LAB4**](https://colab.research.google.com/drive/1-WRpaHVeOmREGY1__OHMoQZvbLou6ehW?usp=sharing)\n",
        "\n",
        "[**LAB5**](https://colab.research.google.com/drive/1yYSStO4ptZ5_t6CXpvL7djI8sg_NR3Se?usp=sharing)\n",
        "\n",
        "[**LAB 6**](https://colab.research.google.com/drive/103-dEi-iJjqH45hd1DPQajzhKMhQG8AY?usp=sharing)\n",
        "\n",
        "[**LAB 7**](https://colab.research.google.com/drive/1u1ZiRERHmWUSSQcwP9lMeUlHCfgJGpAH?usp=sharing)\n",
        "\n",
        "[**LAB 8**](https://colab.research.google.com/drive/1fY4_s4p0YiekgSd-Qgyk-ID1bgHn9POc)\n",
        "\n",
        "[**LAB 10**](https://colab.research.google.com/drive/1XS7D6ghMxWDy-bnIXBpRlaIWmCbROPw-?usp=sharing)"
      ],
      "metadata": {
        "id": "DvnO2J8GRFG8"
      }
    },
    {
      "cell_type": "code",
      "source": [],
      "metadata": {
        "id": "F98ktoCVUFMI"
      },
      "execution_count": null,
      "outputs": []
    }
  ]
}